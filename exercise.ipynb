{
 "cells": [
  {
   "cell_type": "markdown",
   "id": "86bf9769",
   "metadata": {},
   "source": [
    "<div dir=\"auto\">\n",
    "      1- کدی بنویسید که خروجی های زیر را چاپ نماید.\n",
    "</div>\n",
    "'Python programing'\n",
    "\n",
    "Python programing \n"
   ]
  },
  {
   "cell_type": "code",
   "execution_count": 5,
   "id": "7d150e2d",
   "metadata": {},
   "outputs": [
    {
     "name": "stdout",
     "output_type": "stream",
     "text": [
      "python programing\n"
     ]
    }
   ],
   "source": [
    "print(\"python programing\")"
   ]
  },
  {
   "cell_type": "code",
   "execution_count": 4,
   "id": "e4b7780e",
   "metadata": {},
   "outputs": [
    {
     "name": "stdout",
     "output_type": "stream",
     "text": [
      "'python programing'\n"
     ]
    }
   ],
   "source": [
    "print('\\'python programing\\'') # or print(\"'python programing'\")"
   ]
  },
  {
   "cell_type": "markdown",
   "id": "53aafee8",
   "metadata": {},
   "source": [
    "___\n",
    "\n",
    "\n",
    "<div dir=\"auto\">\n",
    "2- با استفاده از دستور print format عبارت زیر را چاپ نمایید\n",
    "</div>\n",
    "\n",
    "Number = 3\n",
    "\n",
    "Type = \"snakes\"\n",
    "\n",
    "pythons are a family of nonvenomous snakes found in 3 countries.\n",
    "\n"
   ]
  },
  {
   "cell_type": "code",
   "execution_count": 4,
   "id": "8318f100",
   "metadata": {},
   "outputs": [
    {
     "name": "stdout",
     "output_type": "stream",
     "text": [
      "pythons are a family of nonvenomous 3 found in snakes countries.\n"
     ]
    }
   ],
   "source": [
    "Number = 3 #   پایتون به حروف کوچک و بزرگ حساس است\n",
    "Type = \"snakes\" # capital letter no type\n",
    "print(\"pythons are a family of nonvenomous {} found in {} countries.\"\n",
    "      .format(Number, Type))"
   ]
  },
  {
   "cell_type": "markdown",
   "id": "6e9fbd4f",
   "metadata": {},
   "source": [
    "___\n",
    "\n",
    "\n",
    "<div dir=\"auto\">\n",
    "3- برنامه ای بنویسید که شعاع دایره ای را از کاربر دریافت کند و محیط و مساحت یک دایره را محاسبه کند.</div>\n"
   ]
  },
  {
   "cell_type": "code",
   "execution_count": 11,
   "id": "66a01752",
   "metadata": {},
   "outputs": [
    {
     "name": "stdout",
     "output_type": "stream",
     "text": [
      "Enter a number5\n",
      "s:78.53981633974483, a:31.41592653589793\n"
     ]
    }
   ],
   "source": [
    "import math\n",
    "\n",
    "r = int(input(\"Enter a number\"))\n",
    "s = math.pi*r**2     #math.pi = 3.141592653589793\n",
    "a = 2*math.pi*r \n",
    "\n",
    "print(\"s:{}, a:{}\".format(s,a))"
   ]
  },
  {
   "cell_type": "markdown",
   "id": "53aafee8",
   "metadata": {},
   "source": [
    "___\n",
    "\n",
    "\n",
    "<div dir=\"auto\">\n",
    "4- برنامه ای بنویسید که مقادیر x, y را از کاربر گرفته و (x + y) * (x + y) را محاسبه کند.</div>\n",
    "\n"
   ]
  },
  {
   "cell_type": "code",
   "execution_count": 12,
   "id": "9a0193df",
   "metadata": {},
   "outputs": [
    {
     "name": "stdout",
     "output_type": "stream",
     "text": [
      "Enter a x:3\n",
      "Enter a y:4\n"
     ]
    },
    {
     "data": {
      "text/plain": [
       "49.0"
      ]
     },
     "execution_count": 12,
     "metadata": {},
     "output_type": "execute_result"
    }
   ],
   "source": [
    "x = float(input(\"Enter a x:\"))\n",
    "y = float(input(\"Enter a y:\"))\n",
    "(x+y)*(x+y) # or (x+y)^2"
   ]
  },
  {
   "cell_type": "markdown",
   "id": "53aafee8",
   "metadata": {},
   "source": [
    "___\n",
    "\n",
    "\n",
    "<div dir=\"auto\">\n",
    "5- برنامه ای بنویسید یک رشته و یک عدد را از کاربر گرفته و به تعداد عدد رشته را تکرار نماید.</div>\n",
    "\n"
   ]
  },
  {
   "cell_type": "code",
   "execution_count": 13,
   "id": "e725144e",
   "metadata": {},
   "outputs": [
    {
     "name": "stdout",
     "output_type": "stream",
     "text": [
      "Enter a number: 3\n",
      "Enter a word: sanaz\n",
      "sanazsanazsanaz\n"
     ]
    }
   ],
   "source": [
    "n = int(input(\"Enter a number: \"))\n",
    "w = input(\"Enter a word: \") \n",
    "\n",
    "print(n*w)"
   ]
  },
  {
   "cell_type": "markdown",
   "id": "53aafee8",
   "metadata": {},
   "source": [
    "___\n",
    "\n",
    "\n",
    "<div dir=\"auto\">\n",
    "6- برنامه ای بنویسید که عدد یک رقمی n را دریافت کند و عبارت n+nn+nnn. را محاسبه کند.</div>\n"
   ]
  },
  {
   "cell_type": "code",
   "execution_count": 17,
   "id": "314927a8",
   "metadata": {},
   "outputs": [
    {
     "name": "stdout",
     "output_type": "stream",
     "text": [
      "Enter a number3\n",
      "n is 3, nn is 33, nnn is 333 and n+nn+nnn is 369\n"
     ]
    }
   ],
   "source": [
    "n = input(\"Enter a number\")\n",
    "\n",
    "x = n*2\n",
    "y = n*3\n",
    "x = int(x)\n",
    "y = int(y)\n",
    "n = int(n)\n",
    "print(\"n is {}, nn is {}, nnn is {} and n+nn+nnn is {}\".format(n,x,y,n+x+y))"
   ]
  },
  {
   "cell_type": "markdown",
   "id": "53aafee8",
   "metadata": {},
   "source": [
    "___\n",
    "\n",
    "\n",
    "<div dir=\"auto\">\n",
    "7- برنامه ای بنویسید که یک عدد را از کاربر دریافت کرده مشخص کند زوج، فرد یا صفر  است.</div>\n",
    "\n",
    "\n"
   ]
  },
  {
   "cell_type": "code",
   "execution_count": 23,
   "id": "f1169291",
   "metadata": {},
   "outputs": [
    {
     "name": "stdout",
     "output_type": "stream",
     "text": [
      "enter a number: 4\n",
      "zoj\n"
     ]
    }
   ],
   "source": [
    "x = int(input(\"enter a number: \"))\n",
    "if x==0:\n",
    "    print(\"zero\")\n",
    "elif x%2==0:\n",
    "    print(\"zoj\")\n",
    "else:\n",
    "    print(\"fard\")"
   ]
  },
  {
   "cell_type": "markdown",
   "id": "53aafee8",
   "metadata": {},
   "source": [
    "___\n",
    "\n",
    "\n",
    "<div dir=\"auto\">\n",
    "1- برنامه ای بنویسید که ضرب همه ی خانه های لیست را محاسبه کند.\n",
    "</div>\n",
    "\n",
    "\n"
   ]
  },
  {
   "cell_type": "code",
   "execution_count": 26,
   "id": "3926dea9",
   "metadata": {},
   "outputs": [
    {
     "name": "stdout",
     "output_type": "stream",
     "text": [
      "120\n"
     ]
    }
   ],
   "source": [
    "l = [1, 2, 3, 4, 5]\n",
    "m = 1\n",
    "for i in l:\n",
    "    m*=i #i=i*m \n",
    "\n",
    "print(m)"
   ]
  },
  {
   "cell_type": "markdown",
   "id": "53aafee8",
   "metadata": {},
   "source": [
    "___\n",
    "\n",
    "\n",
    "<div dir=\"auto\">\n",
    "2- برنامه ای بنویسید که به صورت رندم یکی از خانه های لیست را برگرداند.</div>\n",
    "\n",
    "\n"
   ]
  },
  {
   "cell_type": "code",
   "execution_count": 27,
   "id": "06a9fd7b",
   "metadata": {},
   "outputs": [
    {
     "data": {
      "text/plain": [
       "2"
      ]
     },
     "execution_count": 27,
     "metadata": {},
     "output_type": "execute_result"
    }
   ],
   "source": [
    "import random\n",
    "\n",
    "l = [1, 2, 5, 7, 0]\n",
    "a = random.randint(0,len(l)) # \n",
    "l[a]"
   ]
  },
  {
   "cell_type": "markdown",
   "id": "53aafee8",
   "metadata": {},
   "source": [
    "___\n",
    "\n",
    "\n",
    "<div dir=\"auto\">\n",
    "3- برنامه ای بنویسید که یک لیست اعدادی را از کاربر بگیرد و سپس تعداد اعداد فرد و زوج آن را به عنوان خروجی چاپ کند.\n",
    "    \n",
    "Input Example : List = [1, 2, 3, 5, 6]\n",
    "    \n",
    "Output: odd: 3 and even: 2\n",
    "</div>\n",
    "\n",
    "\n"
   ]
  },
  {
   "cell_type": "code",
   "execution_count": 40,
   "id": "bf6496ad",
   "metadata": {},
   "outputs": [
    {
     "name": "stdout",
     "output_type": "stream",
     "text": [
      "number of even is 2 number of odd is 3 in this list\n"
     ]
    }
   ],
   "source": [
    "List = [1, 2, 3, 5, 6]\n",
    "c_odd = 0\n",
    "c_even = 0\n",
    "for n in List:\n",
    "    if n%2==0:\n",
    "        c_even+=1\n",
    "    else:\n",
    "        c_odd+=1\n",
    "    \n",
    "print(\"number of even is \"+str(c_even)+\n",
    "      \" number of odd is \"+str(c_odd)+\n",
    "      \" in this list\")"
   ]
  }
 ],
 "metadata": {
  "kernelspec": {
   "display_name": "Python 3 (ipykernel)",
   "language": "python",
   "name": "python3"
  },
  "language_info": {
   "codemirror_mode": {
    "name": "ipython",
    "version": 3
   },
   "file_extension": ".py",
   "mimetype": "text/x-python",
   "name": "python",
   "nbconvert_exporter": "python",
   "pygments_lexer": "ipython3",
   "version": "3.9.7"
  }
 },
 "nbformat": 4,
 "nbformat_minor": 5
}
