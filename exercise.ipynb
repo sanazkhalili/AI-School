{
 "cells": [
  {
   "cell_type": "markdown",
   "id": "86bf9769",
   "metadata": {},
   "source": [
    "<div dir=\"auto\">\n",
    "      1- کدی بنویسید که خروجی های زیر را چاپ نماید.\n",
    "</div>\n",
    "'Python programing'\n",
    "\n",
    "Python programing \n"
   ]
  },
  {
   "cell_type": "code",
   "execution_count": 5,
   "id": "7d150e2d",
   "metadata": {},
   "outputs": [
    {
     "name": "stdout",
     "output_type": "stream",
     "text": [
      "python programing\n"
     ]
    }
   ],
   "source": [
    "print(\"python programing\")"
   ]
  },
  {
   "cell_type": "code",
   "execution_count": 4,
   "id": "e4b7780e",
   "metadata": {},
   "outputs": [
    {
     "name": "stdout",
     "output_type": "stream",
     "text": [
      "'python programing'\n"
     ]
    }
   ],
   "source": [
    "print('\\'python programing\\'') # or print(\"'python programing'\")"
   ]
  },
  {
   "cell_type": "markdown",
   "id": "53aafee8",
   "metadata": {},
   "source": [
    "___\n",
    "\n",
    "\n",
    "<div dir=\"auto\">\n",
    "2- با استفاده از دستور print format عبارت زیر را چاپ نمایید\n",
    "</div>\n",
    "\n",
    "Number = 3\n",
    "\n",
    "Type = \"snakes\"\n",
    "\n",
    "pythons are a family of nonvenomous snakes found in 3 countries.\n",
    "\n"
   ]
  },
  {
   "cell_type": "code",
   "execution_count": 4,
   "id": "8318f100",
   "metadata": {},
   "outputs": [
    {
     "name": "stdout",
     "output_type": "stream",
     "text": [
      "pythons are a family of nonvenomous 3 found in snakes countries.\n"
     ]
    }
   ],
   "source": [
    "Number = 3 #   پایتون به حروف کوچک و بزرگ حساس است\n",
    "Type = \"snakes\" # capital letter no type\n",
    "print(\"pythons are a family of nonvenomous {} found in {} countries.\"\n",
    "      .format(Number, Type))"
   ]
  },
  {
   "cell_type": "markdown",
   "id": "6e9fbd4f",
   "metadata": {},
   "source": [
    "___\n",
    "\n",
    "\n",
    "<div dir=\"auto\">\n",
    "3- برنامه ای بنویسید که شعاع دایره ای را از کاربر دریافت کند و محیط و مساحت یک دایره را محاسبه کند.</div>\n"
   ]
  },
  {
   "cell_type": "code",
   "execution_count": 11,
   "id": "66a01752",
   "metadata": {},
   "outputs": [
    {
     "name": "stdout",
     "output_type": "stream",
     "text": [
      "Enter a number5\n",
      "s:78.53981633974483, a:31.41592653589793\n"
     ]
    }
   ],
   "source": [
    "import math\n",
    "\n",
    "r = int(input(\"Enter a number\"))\n",
    "s = math.pi*r**2     #math.pi = 3.141592653589793\n",
    "a = 2*math.pi*r \n",
    "\n",
    "print(\"s:{}, a:{}\".format(s,a))"
   ]
  },
  {
   "cell_type": "markdown",
   "id": "81fcc83d",
   "metadata": {},
   "source": [
    "___\n",
    "\n",
    "\n",
    "<div dir=\"auto\">\n",
    "4- برنامه ای بنویسید که مقادیر x, y را از کاربر گرفته و (x + y) * (x + y) را محاسبه کند.</div>\n",
    "\n"
   ]
  },
  {
   "cell_type": "code",
   "execution_count": 12,
   "id": "9a0193df",
   "metadata": {},
   "outputs": [
    {
     "name": "stdout",
     "output_type": "stream",
     "text": [
      "Enter a x:3\n",
      "Enter a y:4\n"
     ]
    },
    {
     "data": {
      "text/plain": [
       "49.0"
      ]
     },
     "execution_count": 12,
     "metadata": {},
     "output_type": "execute_result"
    }
   ],
   "source": [
    "x = float(input(\"Enter a x:\"))\n",
    "y = float(input(\"Enter a y:\"))\n",
    "(x+y)*(x+y) # or (x+y)^2"
   ]
  },
  {
   "cell_type": "markdown",
   "id": "08f1b7b4",
   "metadata": {},
   "source": [
    "___\n",
    "\n",
    "\n",
    "<div dir=\"auto\">\n",
    "5- برنامه ای بنویسید یک رشته و یک عدد را از کاربر گرفته و به تعداد عدد رشته را تکرار نماید.</div>\n",
    "\n"
   ]
  },
  {
   "cell_type": "code",
   "execution_count": 13,
   "id": "e725144e",
   "metadata": {},
   "outputs": [
    {
     "name": "stdout",
     "output_type": "stream",
     "text": [
      "Enter a number: 3\n",
      "Enter a word: sanaz\n",
      "sanazsanazsanaz\n"
     ]
    }
   ],
   "source": [
    "n = int(input(\"Enter a number: \"))\n",
    "w = input(\"Enter a word: \") \n",
    "\n",
    "print(n*w)"
   ]
  },
  {
   "cell_type": "markdown",
   "id": "21f1e91c",
   "metadata": {},
   "source": [
    "___\n",
    "\n",
    "\n",
    "<div dir=\"auto\">\n",
    "6- برنامه ای بنویسید که عدد یک رقمی n را دریافت کند و عبارت n+nn+nnn. را محاسبه کند.</div>\n"
   ]
  },
  {
   "cell_type": "code",
   "execution_count": 17,
   "id": "314927a8",
   "metadata": {},
   "outputs": [
    {
     "name": "stdout",
     "output_type": "stream",
     "text": [
      "Enter a number3\n",
      "n is 3, nn is 33, nnn is 333 and n+nn+nnn is 369\n"
     ]
    }
   ],
   "source": [
    "n = input(\"Enter a number\")\n",
    "\n",
    "x = n*2\n",
    "y = n*3\n",
    "x = int(x)\n",
    "y = int(y)\n",
    "n = int(n)\n",
    "print(\"n is {}, nn is {}, nnn is {} and n+nn+nnn is {}\".format(n,x,y,n+x+y))"
   ]
  },
  {
   "cell_type": "markdown",
   "id": "1e01015f",
   "metadata": {},
   "source": [
    "___\n",
    "\n",
    "\n",
    "<div dir=\"auto\">\n",
    "7- برنامه ای بنویسید که یک عدد را از کاربر دریافت کرده مشخص کند زوج، فرد یا صفر  است.</div>\n",
    "\n",
    "\n"
   ]
  },
  {
   "cell_type": "code",
   "execution_count": 23,
   "id": "f1169291",
   "metadata": {},
   "outputs": [
    {
     "name": "stdout",
     "output_type": "stream",
     "text": [
      "enter a number: 4\n",
      "zoj\n"
     ]
    }
   ],
   "source": [
    "x = int(input(\"enter a number: \"))\n",
    "if x==0:\n",
    "    print(\"zero\")\n",
    "elif x%2==0:\n",
    "    print(\"zoj\")\n",
    "else:\n",
    "    print(\"fard\")"
   ]
  },
  {
   "cell_type": "markdown",
   "id": "9bee8d04",
   "metadata": {},
   "source": [
    "___\n",
    "\n",
    "\n",
    "<div dir=\"auto\">\n",
    "1- برنامه ای بنویسید که ضرب همه ی خانه های لیست را محاسبه کند.\n",
    "</div>\n",
    "\n",
    "\n"
   ]
  },
  {
   "cell_type": "code",
   "execution_count": 26,
   "id": "3926dea9",
   "metadata": {},
   "outputs": [
    {
     "name": "stdout",
     "output_type": "stream",
     "text": [
      "120\n"
     ]
    }
   ],
   "source": [
    "l = [1, 2, 3, 4, 5]\n",
    "m = 1\n",
    "for i in l:\n",
    "    m*=i #i=i*m \n",
    "\n",
    "print(m)"
   ]
  },
  {
   "cell_type": "markdown",
   "id": "bef2c8bf",
   "metadata": {},
   "source": [
    "___\n",
    "\n",
    "\n",
    "<div dir=\"auto\">\n",
    "2- برنامه ای بنویسید که به صورت رندم یکی از خانه های لیست را برگرداند.</div>\n",
    "\n",
    "\n"
   ]
  },
  {
   "cell_type": "code",
   "execution_count": 27,
   "id": "06a9fd7b",
   "metadata": {},
   "outputs": [
    {
     "data": {
      "text/plain": [
       "2"
      ]
     },
     "execution_count": 27,
     "metadata": {},
     "output_type": "execute_result"
    }
   ],
   "source": [
    "import random\n",
    "\n",
    "l = [1, 2, 5, 7, 0]\n",
    "a = random.randint(0,len(l)) # \n",
    "l[a]"
   ]
  },
  {
   "cell_type": "markdown",
   "id": "53aafee8",
   "metadata": {},
   "source": [
    "___\n",
    "\n",
    "\n",
    "<div dir=\"auto\">\n",
    "3- برنامه ای بنویسید که یک لیست اعدادی را از کاربر بگیرد و سپس تعداد اعداد فرد و زوج آن را به عنوان خروجی چاپ کند.\n",
    "    \n",
    "Input Example : List = [1, 2, 3, 5, 6]\n",
    "    \n",
    "Output: odd: 3 and even: 2\n",
    "</div>\n",
    "\n",
    "\n"
   ]
  },
  {
   "cell_type": "code",
   "execution_count": 40,
   "id": "bf6496ad",
   "metadata": {},
   "outputs": [
    {
     "name": "stdout",
     "output_type": "stream",
     "text": [
      "number of even is 2 number of odd is 3 in this list\n"
     ]
    }
   ],
   "source": [
    "List = [1, 2, 3, 5, 6]\n",
    "c_odd = 0\n",
    "c_even = 0\n",
    "for n in List:\n",
    "    if n%2==0:\n",
    "        c_even+=1\n",
    "    else:\n",
    "        c_odd+=1\n",
    "    \n",
    "print(\"number of even is \"+str(c_even)+\n",
    "      \" number of odd is \"+str(c_odd)+\n",
    "      \" in this list\")"
   ]
  },
  {
   "cell_type": "markdown",
   "id": "53aafee8",
   "metadata": {},
   "source": [
    "___\n",
    "\n",
    "\n",
    "<div dir=\"auto\">\n",
    "4--برنامه ای بنویسید که یک لیست شامل خانه های حروف a b c d e f را به شکل یک رشته در آورد.\n",
    "</div>\n",
    "\n",
    "\n"
   ]
  },
  {
   "cell_type": "code",
   "execution_count": 5,
   "id": "3d26e792",
   "metadata": {},
   "outputs": [],
   "source": [
    "l_ch = ['z', 'a', 'h', 'r', 'a']\n",
    "m = \"\"\n",
    "for i in l_ch:\n",
    "    m+=i\n"
   ]
  },
  {
   "cell_type": "code",
   "execution_count": 6,
   "id": "bd555cea",
   "metadata": {},
   "outputs": [
    {
     "data": {
      "text/plain": [
       "'zahra'"
      ]
     },
     "execution_count": 6,
     "metadata": {},
     "output_type": "execute_result"
    }
   ],
   "source": [
    "m"
   ]
  },
  {
   "cell_type": "markdown",
   "id": "53aafee8",
   "metadata": {},
   "source": [
    "___\n",
    "\n",
    "\n",
    "<div dir=\"auto\">\n",
    "    5-\n",
    "برنامه ای بنویسید که عنصرهای تکراری در لیست را حذف کند و خانه های باقیمانده به شکل حرف بزرگ انگلیسی در لیست جدید ذخیره شوند.</div>\n",
    "\n",
    "\n"
   ]
  },
  {
   "cell_type": "code",
   "execution_count": 23,
   "id": "5b4e9c87",
   "metadata": {},
   "outputs": [
    {
     "name": "stdout",
     "output_type": "stream",
     "text": [
      "['A', 'B', 'C', 'D']\n"
     ]
    }
   ],
   "source": [
    "word = ['a', 'b', 'c', 'd', 'a', 'c', 'b']\n",
    "\n",
    "word_u = []\n",
    "for i in word:\n",
    "    u = i.upper()\n",
    "    if not(u in word_u):\n",
    "        word_u.append(u)\n",
    "\n",
    "print(word_u)"
   ]
  },
  {
   "cell_type": "code",
   "execution_count": 24,
   "id": "3e20c0d0",
   "metadata": {},
   "outputs": [
    {
     "name": "stdout",
     "output_type": "stream",
     "text": [
      "['A', 'B', 'C', 'D']\n"
     ]
    }
   ],
   "source": [
    "\n",
    "# چون حروف به شکل بزرگ در آرایه اضافه می شوند \n",
    "#برای چک کردن هم باید حرف بزرگ چک شود\n",
    "#این کد به شکل زیر هم قابل پیاده سازی است\n",
    "\n",
    "word = ['a', 'b', 'c', 'd', 'a', 'c', 'b']\n",
    "\n",
    "word_u = []\n",
    "for i in word:\n",
    "    if not(i in word_u):\n",
    "        word_u.append(i)\n",
    "#word_u حروف کوچک غیر تکراری در \n",
    "#است\n",
    "for w in range(len(word_u)):\n",
    "    word_u[w]=word_u[w].upper()\n",
    "\n",
    "print(word_u)"
   ]
  },
  {
   "cell_type": "markdown",
   "id": "53aafee8",
   "metadata": {},
   "source": [
    "___\n",
    "\n",
    "\n",
    "<div dir=\"auto\">\n",
    "6- برنامه ای که ر شته ای را خوانده، کاراکتر های ر شته را با یک فاصله از یکدیگر نمایش می دهد.(هدف برنامه پيمایش رشته با for می باشد).</div>\n"
   ]
  },
  {
   "cell_type": "code",
   "execution_count": 29,
   "id": "6188dec5",
   "metadata": {},
   "outputs": [
    {
     "name": "stdout",
     "output_type": "stream",
     "text": [
      "Enter a word: sara\n",
      "s a r a "
     ]
    }
   ],
   "source": [
    "word = input(\"Enter a word: \")\n",
    "for i in word:\n",
    "    print(i, end=\" \")"
   ]
  },
  {
   "attachments": {
    "image.png": {
     "image/png": "[encoded data removed]"
    }
   },
   "cell_type": "markdown",
   "id": "841b7bc5",
   "metadata": {},
   "source": [
    "___\n",
    "\n",
    "\n",
    "<div dir=\"auto\">\n",
    "7- لیستی مشابه تصویر زیر دریافت کند و تعداد هر کارکتر را در یک دیکشنری ذخیره کند.\n",
    "</div>\n",
    "\n",
    "![image.png](attachment:image.png)"
   ]
  },
  {
   "cell_type": "code",
   "execution_count": 55,
   "id": "74343c29",
   "metadata": {},
   "outputs": [],
   "source": [
    "li = ['a', 'b', 'c', 'd', 'e', 'e','a','z','b','b','e']\n",
    "\n",
    "dict_ch = {}\n",
    "for i in li:\n",
    "    c= 0\n",
    "    for j in li:\n",
    "        if i==j:\n",
    "            c+=1\n",
    "    dict_ch[i]=c"
   ]
  },
  {
   "cell_type": "code",
   "execution_count": 56,
   "id": "39c3b694",
   "metadata": {},
   "outputs": [
    {
     "data": {
      "text/plain": [
       "{'a': 2, 'b': 3, 'c': 1, 'd': 1, 'e': 3, 'z': 1}"
      ]
     },
     "execution_count": 56,
     "metadata": {},
     "output_type": "execute_result"
    }
   ],
   "source": [
    "dict_ch"
   ]
  },
  {
   "cell_type": "code",
   "execution_count": 58,
   "id": "ef040221",
   "metadata": {},
   "outputs": [
    {
     "data": {
      "text/plain": [
       "Counter({'a': 2, 'b': 3, 'c': 1, 'd': 1, 'e': 3, 'z': 1})"
      ]
     },
     "execution_count": 58,
     "metadata": {},
     "output_type": "execute_result"
    }
   ],
   "source": [
    "#روشی دیگر\n",
    "from collections import Counter\n",
    "Counter(li)"
   ]
  },
  {
   "cell_type": "markdown",
   "id": "9ae8542a",
   "metadata": {},
   "source": [
    "___\n",
    "\n",
    "\n",
    "<div dir=\"auto\">\n",
    "8- با استفاده از لیست ها برنامه ای بنویسید که اگر عنصری در لیست list1 دارای کاراکتری از عنصرهای list2 بود آن را در یک دیکشنری نگه دارد و در آخر تمامی عنصر های دیکشنری را چاپ کند.\n",
    "</div>\n",
    "\n",
    "Input:\n",
    "List1=[‘flu’, ‘cold’, ‘sneeze’, ‘cough’, ‘fever’]\n",
    "\n",
    "List2=[‘g’, ‘u’, ‘e’]\n",
    "\n",
    "Output:\n",
    " {'u': ['flu', 'cough'], 'e': ['sneeze‘ , 'fever'], 'g': ['cough']}\n"
   ]
  },
  {
   "cell_type": "code",
   "execution_count": 61,
   "id": "ed722750",
   "metadata": {},
   "outputs": [],
   "source": [
    "List1 = ['flu', 'cold', 'sneeze', 'cough', 'fever']\n",
    "List2 = ['g', 'u', 'e']"
   ]
  },
  {
   "cell_type": "code",
   "execution_count": 62,
   "id": "5fd9a26b",
   "metadata": {},
   "outputs": [],
   "source": [
    "dict_ch = {}\n",
    "for i in List2:\n",
    "    l_tempt = []\n",
    "    for j in List1:\n",
    "        if i in j:\n",
    "            l_tempt.append(j)\n",
    "    dict_ch[i]=l_tempt\n",
    "            "
   ]
  },
  {
   "cell_type": "code",
   "execution_count": 63,
   "id": "7afbcded",
   "metadata": {},
   "outputs": [
    {
     "data": {
      "text/plain": [
       "{'g': ['cough'], 'u': ['flu', 'cough'], 'e': ['sneeze', 'fever']}"
      ]
     },
     "execution_count": 63,
     "metadata": {},
     "output_type": "execute_result"
    }
   ],
   "source": [
    "dict_ch"
   ]
  },
  {
   "cell_type": "markdown",
   "id": "18b496eb",
   "metadata": {},
   "source": [
    "___\n",
    "\n",
    "\n",
    "<div dir=\"auto\">\n",
    "1- تابعی برای رابطه ی زیر پیاده سازی کنید که کاربر بتواند به ازای هر ورودی، خروجی درست را مشاهده کند.\n",
    "f(x)=2x^2+3x+5\n",
    "</div>\n"
   ]
  },
  {
   "cell_type": "code",
   "execution_count": 59,
   "id": "13115ba1",
   "metadata": {},
   "outputs": [
    {
     "data": {
      "text/plain": [
       "19"
      ]
     },
     "execution_count": 59,
     "metadata": {},
     "output_type": "execute_result"
    }
   ],
   "source": [
    "def f(x):\n",
    "    return 2 * x ** 2 + 3 * x + 5 # 2* 2**2 + 3*2 +5 = 19\n",
    "\n",
    "f(2)"
   ]
  },
  {
   "cell_type": "markdown",
   "id": "36542678",
   "metadata": {},
   "source": [
    "\n",
    "___\n",
    "\n",
    "\n",
    "<div dir=\"auto\">\n",
    "تابع زیر را با استفاده از دستور lambda پیاده سازی نمایید.\n",
    "    \n",
    "f(x)=2x+3\n",
    "</div>"
   ]
  },
  {
   "cell_type": "code",
   "execution_count": 40,
   "id": "746c502b",
   "metadata": {},
   "outputs": [
    {
     "data": {
      "text/plain": [
       "7"
      ]
     },
     "execution_count": 40,
     "metadata": {},
     "output_type": "execute_result"
    }
   ],
   "source": [
    "f = lambda x: 2*x+3\n",
    "f(2)"
   ]
  },
  {
   "cell_type": "markdown",
   "id": "d86717f9",
   "metadata": {},
   "source": [
    "___\n",
    "\n",
    "\n",
    "<div dir=\"auto\">\n",
    "2- تابع زیر را با استفاده از دستور map بر روی لیست [5,4,3,2,1]  اجرا و در لیست جدیدی ذخیره نمایید.\n",
    "\n",
    "f(x)=2x+3\n",
    "\n",
    "</div>"
   ]
  },
  {
   "cell_type": "code",
   "execution_count": 39,
   "id": "8c521529",
   "metadata": {},
   "outputs": [
    {
     "data": {
      "text/plain": [
       "[13, 11, 9, 7, 5]"
      ]
     },
     "execution_count": 39,
     "metadata": {},
     "output_type": "execute_result"
    }
   ],
   "source": [
    "li = [5, 4, 3, 2, 1]\n",
    "list(map(lambda x: 2*x+3,li))"
   ]
  },
  {
   "cell_type": "markdown",
   "id": "51de76cc",
   "metadata": {},
   "source": [
    "___\n",
    "\n",
    "<div dir=\"auto\">\n",
    "3- با استفاده از دستور filter کدی بنویسید که تمام اعداد در بازه ی 1500 تا 2700 را که به عدد 7 بخش پذیر و بر 2 بخش پذیر نیستند را فیلتر کند و در لیست جدید قرار دهد.\n",
    "</div>"
   ]
  },
  {
   "cell_type": "code",
   "execution_count": 66,
   "id": "c31a0de9",
   "metadata": {},
   "outputs": [
    {
     "data": {
      "text/plain": [
       "2249"
      ]
     },
     "execution_count": 66,
     "metadata": {},
     "output_type": "execute_result"
    }
   ],
   "source": []
  },
  {
   "cell_type": "code",
   "execution_count": 69,
   "id": "f5f9dac7",
   "metadata": {},
   "outputs": [
    {
     "name": "stdout",
     "output_type": "stream",
     "text": [
      "[1505, 1519, 1533, 1547, 1561, 1575, 1589, 1603, 1617, 1631, 1645, 1659, 1673, 1687, 1701, 1715, 1729, 1743, 1757, 1771, 1785, 1799, 1813, 1827, 1841, 1855, 1869, 1883, 1897, 1911, 1925, 1939, 1953, 1967, 1981, 1995, 2009, 2023, 2037, 2051, 2065, 2079, 2093, 2107, 2121, 2135, 2149, 2163, 2177, 2191, 2205, 2219, 2233, 2247, 2261, 2275, 2289, 2303, 2317, 2331, 2345, 2359, 2373, 2387, 2401, 2415, 2429, 2443, 2457, 2471, 2485, 2499, 2513, 2527, 2541, 2555, 2569, 2583, 2597, 2611, 2625, 2639, 2653, 2667, 2681, 2695]\n"
     ]
    }
   ],
   "source": [
    "li = list(range(1500,2701))\n",
    "def filter7_2(x):\n",
    "    if x%7==0 and x%2!=0 and x>1500 and x<2700:\n",
    "        return True\n",
    "    else:\n",
    "        return False\n",
    "\n",
    "print( list(filter(filter7_2,li)) )\n",
    "        "
   ]
  },
  {
   "cell_type": "code",
   "execution_count": 71,
   "id": "7a2904de",
   "metadata": {},
   "outputs": [
    {
     "name": "stdout",
     "output_type": "stream",
     "text": [
      "[1505, 1519, 1533, 1547, 1561, 1575, 1589, 1603, 1617, 1631, 1645, 1659, 1673, 1687, 1701, 1715, 1729, 1743, 1757, 1771, 1785, 1799, 1813, 1827, 1841, 1855, 1869, 1883, 1897, 1911, 1925, 1939, 1953, 1967, 1981, 1995, 2009, 2023, 2037, 2051, 2065, 2079, 2093, 2107, 2121, 2135, 2149, 2163, 2177, 2191, 2205, 2219, 2233, 2247, 2261, 2275, 2289, 2303, 2317, 2331, 2345, 2359, 2373, 2387, 2401, 2415, 2429, 2443, 2457, 2471, 2485, 2499, 2513, 2527, 2541, 2555, 2569, 2583, 2597, 2611, 2625, 2639, 2653, 2667, 2681, 2695]\n"
     ]
    }
   ],
   "source": [
    "#روشی دیگر \n",
    "\n",
    "li = list(range(1500,2701))\n",
    "h = list(filter(lambda x: x%7==0 and x%2!=0 and x>1500 and x<2700 ,li))\n",
    "print( h )"
   ]
  },
  {
   "cell_type": "markdown",
   "id": "046562ee",
   "metadata": {},
   "source": [
    "___\n",
    "\n",
    "<div dir=\"auto\">\n",
    "    4-برنامه ای بنویسید که تست کند آیا یک ماتریس مربع جادویی است یا خیر .(با نامپای پیاده سازی شود) \n",
    "</div>"
   ]
  },
  {
   "cell_type": "code",
   "execution_count": 33,
   "id": "dd54044c",
   "metadata": {},
   "outputs": [],
   "source": [
    "import numpy as np\n",
    "array = np.array([[1,0,3],[2,0,1],[3,1,0]])"
   ]
  },
  {
   "cell_type": "code",
   "execution_count": 34,
   "id": "8a288ccb",
   "metadata": {},
   "outputs": [
    {
     "data": {
      "text/plain": [
       "array([[1, 0, 3],\n",
       "       [2, 0, 1],\n",
       "       [3, 1, 0]])"
      ]
     },
     "execution_count": 34,
     "metadata": {},
     "output_type": "execute_result"
    }
   ],
   "source": [
    "array"
   ]
  },
  {
   "cell_type": "code",
   "execution_count": 35,
   "id": "1f4c7c9e",
   "metadata": {},
   "outputs": [],
   "source": [
    "sum_col = np.sum(array, axis=0) #  output ---> array([6, 1, 4])\n",
    "sum_row = np.sum(array, axis=1) #  output ---> array([4, 3, 4])\n",
    "sum_di = np.sum(np.diagonal(array)) # output ---> 1\n",
    "sum_di_r = np.sum(np.diagonal(np.fliplr(array))) # output ----> 6"
   ]
  },
  {
   "cell_type": "code",
   "execution_count": 36,
   "id": "5ded5303",
   "metadata": {},
   "outputs": [
    {
     "data": {
      "text/plain": [
       "array([6, 1, 4])"
      ]
     },
     "execution_count": 36,
     "metadata": {},
     "output_type": "execute_result"
    }
   ],
   "source": [
    "sum_col"
   ]
  },
  {
   "cell_type": "code",
   "execution_count": 37,
   "id": "d6a6d0c8",
   "metadata": {},
   "outputs": [],
   "source": [
    "# نتیجه ی هر شرط را جدا در متغیری قرار دادیم\n",
    "check_r_c = sum_col == sum_row # array([False, False,  True])\n",
    "check_di_r = sum_di==sum_di_r # False\n",
    "check_r_di = sum_di == sum_row # array([False, False, False])"
   ]
  },
  {
   "cell_type": "code",
   "execution_count": 38,
   "id": "07aea535",
   "metadata": {},
   "outputs": [
    {
     "name": "stdout",
     "output_type": "stream",
     "text": [
      "It isn't a magic\n"
     ]
    }
   ],
   "source": [
    "if np.all(check_r_c) and check_di_r and np.all(check_r_di):\n",
    "    print(\"It is a magic\")\n",
    "else:\n",
    "    print(\"It isn't a magic\")"
   ]
  }
 ],
 "metadata": {
  "kernelspec": {
   "display_name": "Python 3 (ipykernel)",
   "language": "python",
   "name": "python3"
  },
  "language_info": {
   "codemirror_mode": {
    "name": "ipython",
    "version": 3
   },
   "file_extension": ".py",
   "mimetype": "text/x-python",
   "name": "python",
   "nbconvert_exporter": "python",
   "pygments_lexer": "ipython3",
   "version": "3.9.7"
  }
 },
 "nbformat": 4,
 "nbformat_minor": 5
}
